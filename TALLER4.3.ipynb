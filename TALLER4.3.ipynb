{
 "cells": [
  {
   "cell_type": "code",
   "execution_count": 1,
   "metadata": {},
   "outputs": [],
   "source": [
    "import numpy as np\n",
    "import matplotlib.pyplot as plt\n",
    "import pandas as pd"
   ]
  },
  {
   "cell_type": "code",
   "execution_count": 2,
   "metadata": {},
   "outputs": [
    {
     "name": "stdout",
     "output_type": "stream",
     "text": [
      "1.0 3.725\n"
     ]
    }
   ],
   "source": [
    "x=np.array([1,2,3,4,5,6,7,8,9,10])\n",
    "prob=np.array([0.200,0.200,0.150,0.125,0.100,0.075,0.050,0.050,0.025,0.025])\n",
    "com=np.sum(prob) #debe ser igual a 1\n",
    "a1=np.sum(x*prob)\n",
    "print (com,a1)#valor esperado"
   ]
  },
  {
   "cell_type": "code",
   "execution_count": 3,
   "metadata": {},
   "outputs": [],
   "source": [
    "festivos=[1,8,78,88,89,121,134,155,162,183,201,219,232,288,309,316,342,359]\n",
    "nDias=365"
   ]
  },
  {
   "cell_type": "code",
   "execution_count": 4,
   "metadata": {},
   "outputs": [],
   "source": [
    "d=np.zeros(401) #lo maximo que pueden llegar a pedir en un dia, 15 minutos en 10 horas, 10 unidades\n",
    "pd1=np.zeros(401)\n",
    "dd=[]\n",
    "numeroRep=100000\n",
    "\n",
    "for i in range (numeroRep):\n",
    "    reloj=0.0\n",
    "    demdia=0\n",
    "    tet=np.random.uniform(15,60,1)\n",
    "    while reloj+tet <= 600: #un día son 10 horas, 600 min\n",
    "        dj=np.random.choice(x,p=prob)\n",
    "        demdia+=dj\n",
    "        reloj+=tet\n",
    "        tet=np.random.uniform(15,60,1)\n",
    "    #print (demdia,reloj)\n",
    "    d[demdia]+=1 #frecuencia absoluta\n",
    "    dd.append(demdia)\n",
    "    \n",
    "pd1=d/(numeroRep*1.0) #frecuencia relativa"
   ]
  },
  {
   "cell_type": "code",
   "execution_count": 5,
   "metadata": {},
   "outputs": [
    {
     "name": "stdout",
     "output_type": "stream",
     "text": [
      "57.93 10.873665435353436\n"
     ]
    }
   ],
   "source": [
    "ddp=np.mean(dd)\n",
    "ddp2=np.std(dd)\n",
    "print (ddp, ddp2)"
   ]
  },
  {
   "cell_type": "code",
   "execution_count": 6,
   "metadata": {},
   "outputs": [],
   "source": [
    "k=2.5"
    "#NP=Demanda promedio en el tiempo de abastecimiento + K * desviación estándar de la demanda promedio en el tiempo de abastecimiento\n",
    "nivelPedido=ddp*3+ddp2 ## HAY QUE CAMBIARLO"
   ]
  },
  {
   "cell_type": "code",
   "execution_count": 7,
   "metadata": {},
   "outputs": [],
   "source": [
    "contadorDias=0\n",
    "contadorDiasInventario=0\n",
    "contadorDeJueves=0\n",
    "diaDeLaSemana=[]"
   ]
  },
  {
   "cell_type": "code",
   "execution_count": 8,
   "metadata": {},
   "outputs": [],
   "source": [
    "MIN_Q=595 #Q, abastecimiento \n",
    "MIN_numPedidos=0\n",
    "MIN_sumaInvMantener1=0 \n",
    "MIN_sumaInvMantener2=0 \n",
    "MIN_sumaInvFaltantes=0\n",
    "MIN_sumaArticulosDemandados=0\n",
    "MIN_sumaArticulosPedidos=0\n",
    "MIN_sumaArticulosRecibidos=0\n",
    "MIN_invInicial=MIN_Q \n",
    "MIN_invFinal=0\n",
    "MIN_diasArriboPedido=0\n",
    "MIN_pedidoRealizado=False\n",
    "MIN_puedePedir=True\n",
    "MIN_huboFaltantes=0\n",
    "MIN_ciclosConFaltantes=0\n",
    "\n",
    "MIN_invI1=[] \n",
    "MIN_invF1=[]\n",
    "MIN_invI2=[] \n",
    "MIN_invF2=[]"
   ]
  },
  {
   "cell_type": "code",
   "execution_count": 9,
   "metadata": {},
   "outputs": [],
   "source": [
    "MAY_numPedidos=0\n",
    "MAY_sumaInvMantener1=0 \n",
    "MAY_sumaInvMantener2=0 \n",
    "MAY_sumaInvFaltantes=0\n",
    "MAY_sumaArticulosDemandados=0\n",
    "MAY_sumaArticulosPedidos=0\n",
    "MAY_sumaArticulosRecibidos=0\n",
    "MAY_cantidadReferencia=800 #S ##HAY QUE CAMBIARLO\n",
    "MAY_invInicial=MAY_cantidadReferencia\n",
    "MAY_invFinal=0\n",
    "MAY_cantidadAenviar=0\n",
    "MAY_diasArriboPedido=0\n",
    "MAY_pedidoRealizado=False\n",
    "MAY_demandaAcumulada=0\n",
    "MAY_QaPedir=0\n",
    "MAY_puedePedir=True\n",
    "MAY_huboFaltantes=0\n",
    "MAY_ciclosConFaltantes=0\n",
    "\n",
    "MAY_invI1=[] \n",
    "MAY_invF1=[]\n",
    "MAY_invI2=[] \n",
    "MAY_invF2=[]"
   ]
  },
  {
   "cell_type": "code",
   "execution_count": 10,
   "metadata": {},
   "outputs": [],
   "source": [
    "for i in range (1):\n",
    "    contadorDias=0 \n",
    "    while contadorDias<nDias:\n",
    "        reloj=0.0\n",
    "        tet=np.random.uniform(15,60,1)\n",
    "        \n",
    "\n",
    "        contadorDias+=1\n",
    "        \n",
    "\n",
    "        diaSemana=contadorDias%7\n",
    "        \n",
    "\n",
    "        if(diaSemana==4): \n",
    "            contadorDeJueves+=1 \n",
    "            \n",
    "\n",
    "        if not (contadorDias in festivos) and not (diaSemana==0): #si no es festivo ni domingo\n",
    "            \n",
    "            diaSemana2=diaSemana\n",
    "            contadorDiasInventario+=1 \n",
    "            \n",
    "            if(MIN_diasArriboPedido>0 and MIN_pedidoRealizado): #si hay un pedido\n",
    "                MIN_diasArriboPedido-=1\n",
    "\n",
    "            MIN_invFinal=MIN_invInicial\n",
    "            MAY_invFinal=MAY_invInicial\n",
    "            \n",
    "            MIN_sumaInvMantener1+=MIN_invInicial #q promedio, le voy sumando todo el inventario\n",
    "            MAY_sumaInvMantener1+=MAY_invInicial\n",
    "            MIN_sumaInvMantener2+=MIN_invInicial\n",
    "            MAY_sumaInvMantener2+=MAY_invInicial\n",
    "            \n",
    "            MIN_demandaDelDia=0\n",
    "            while reloj+tet <= 600: #un día son 10 horas, 600 min\n",
    "                dj=np.random.choice(x,p=prob)\n",
    "                MIN_demandaDelDia+=dj\n",
    "                reloj+=tet\n",
    "                tet=np.random.uniform(15,60,1)\n",
    "            \n",
    "            MIN_sumaArticulosDemandados+=MIN_demandaDelDia #articulos demandados al año\n",
    "            \n",
    "            if(MIN_demandaDelDia>MIN_invFinal): #si la demanda del día no se puede abastecer\n",
    "                MIN_huboFaltantes=1 #sí hubo faltantes\n",
    "                MIN_sumaInvFaltantes+=(MIN_demandaDelDia-MIN_invFinal) \n",
    "                MIN_invFinal=0 \n",
    "            else: #no hubo faltantes, se resta lo demandado al inventario\n",
    "                MIN_invFinal=(MIN_invFinal-MIN_demandaDelDia) \n",
    "\n",
    "            if(MIN_pedidoRealizado) and (MIN_diasArriboPedido==1): #si hay que mandar un pedido al minorista\n",
    "                MAY_demandaDelDia=MAY_cantidadAenviar #hoy hubo una demanda porque tengo que mandar\n",
    "            else: #si no hay que mandar, no hay demanda\n",
    "                MAY_demandaDelDia=0\n",
    "            MAY_sumaArticulosDemandados+=MAY_demandaDelDia #articulos demandados al año\n",
    "\n",
    "            if(MAY_demandaDelDia>MAY_invFinal): #si no puedo abastecer al minorista\n",
    "                MAY_huboFaltantes=1 #hay faltantes\n",
    "                MAY_demandaAcumulada=MAY_demandaDelDia-MAY_invFinal \n",
    "                MAY_cantidadAenviar=MAY_invFinal \n",
    "                MAY_invFinal=0 \n",
    "            else: #si sí lo puedo abastecer, le quito la demanda a mi inventario\n",
    "                MAY_invFinal-=MAY_demandaDelDia \n",
    "                MAY_demandaAcumulada=0 \n",
    "\n",
    "            MAY_sumaInvFaltantes+=MAY_demandaAcumulada #suma de articulos faltantes\n",
    "\n",
    "            \n",
    "            if(MIN_pedidoRealizado) and (MIN_diasArriboPedido==0): #si hay un pedido y llegó al minorista\n",
    "                MIN_invFinal+=MAY_cantidadAenviar #llegó el pedido\n",
    "                MIN_sumaArticulosRecibidos+=MAY_cantidadAenviar #suma de articulos recibidos\n",
    "                MAY_cantidadAenviar=0 # ya no me tiene que mandar nada\n",
    "                MIN_pedidoRealizado=False #se quita evento pedido\n",
    "                MIN_puedePedir=True \n",
    "                MIN_ciclosConFaltantes+=MIN_huboFaltantes   #sumo si hubo faltantes este ciclo\n",
    "                MIN_huboFaltantes=0\n",
    "     \n",
    "            if(MIN_invFinal<nivelPedido) and not (MIN_pedidoRealizado) and (MIN_puedePedir): #si hay que pedir y no hay pedido y se puede pedir\n",
    "                MIN_diasArriboPedido=3 #pedido realizado\n",
    "                MIN_numPedidos+=1 #un pedido más\n",
    "                MAY_cantidadAenviar=MIN_Q+MAY_demandaAcumulada #pedí el q mas lo que me faltaba\n",
    "                MIN_sumaArticulosPedidos+=MAY_cantidadAenviar #articulos pedidos en un año por el MINORISTA\n",
    "                MIN_pedidoRealizado=True \n",
    "                MIN_puedePedir=False \n",
    "\n",
    "            if(MAY_pedidoRealizado) and (diaSemana==1): #lunes, llega pedido de la fabrica\n",
    "                if not(contadorDias in festivos): #lunes NO festivo\n",
    "                    MAY_invFinal+=MAY_QaPedir \n",
    "                    MIN_sumaArticulosRecibidos+=MAY_QaPedir\n",
    "                    MAY_pedidoRealizado=False \n",
    "                    MAY_puedePedir=True \n",
    "                    MAY_ciclosConFaltantes+=MAY_huboFaltantes\n",
    "                    MAY_huboFaltantes=0\n",
    "                elif (contadorDias in festivos): #lunes festivo, llega el martes\n",
    "                    diaSemana==2\n",
    "                    MAY_invFinal+=MAY_QaPedir \n",
    "                    MIN_sumaArticulosRecibidos+=MAY_QaPedir\n",
    "                    MAY_pedidoRealizado=False \n",
    "                    MAY_puedePedir=True \n",
    "                    MAY_ciclosConFaltantes+=MAY_huboFaltantes\n",
    "                    MAY_huboFaltantes=0\n",
    "            diaSemana=diaSemana2\n",
    "            if(contadorDeJueves==2) and (MAY_puedePedir): #dia de pedido del MAYORISTA\n",
    "                MAY_numPedidos+=1\n",
    "                MAY_QaPedir=MAY_cantidadReferencia-MAY_invFinal+MAY_demandaAcumulada\n",
    "                MAY_sumaArticulosPedidos=MAY_sumaArticulosPedidos+MAY_QaPedir\n",
    "                contadorDeJueves=0 \n",
    "                MAY_pedidoRealizado=True \n",
    "                MAY_puedePedir=False \n",
    "\n",
    "            diaDeLaSemana.append(diaSemana) #dias en que se trabajó\n",
    "            \n",
    "            MIN_invI1.append(MIN_invInicial) #inventario inicial diario MINORISTA\n",
    "            MIN_invF1.append(MIN_invFinal) #inventario final diario MINORISTA\n",
    "            MAY_invI1.append(MAY_invInicial) #inventario inicial diario MAYORISTA\n",
    "            MAY_invF1.append(MAY_invFinal) #inventario final diario MAYORISTA\n",
    "            \n",
    "            MIN_invI2.append(MIN_invInicial)\n",
    "            MIN_invF2.append(MIN_invFinal)\n",
    "            MAY_invI2.append(MAY_invInicial)\n",
    "            MAY_invF2.append(MAY_invFinal)\n",
    "\n",
    "            MIN_invInicial=MIN_invFinal #se acaba el día\n",
    "            MAY_invInicial=MAY_invFinal #se acaba el día\n",
    "        else: #sí es festivo o domingo\n",
    "            MIN_sumaInvMantener1+=MIN_invInicial #inventario promedio\n",
    "            MAY_sumaInvMantener1+=MAY_invInicial\n",
    "            MIN_invI1.append(MIN_invInicial)#inventario inicial minorista\n",
    "            MIN_invF1.append(MIN_invInicial)#inventario final minorista\n",
    "            MAY_invI1.append(MAY_invInicial)#inventario inicial mayorista\n",
    "            MAY_invF1.append(MAY_invInicial)#inventario final mayorista\n",
    "        \n",
    "                "
   ]
  },
  {
   "cell_type": "code",
   "execution_count": 11,
   "metadata": {},
   "outputs": [
    {
     "data": {
      "text/plain": [
       "295"
      ]
     },
     "execution_count": 11,
     "metadata": {},
     "output_type": "execute_result"
    }
   ],
   "source": [
    "contadorDiasInventario"
   ]
  },
  {
   "cell_type": "code",
   "execution_count": 12,
   "metadata": {},
   "outputs": [
    {
     "name": "stdout",
     "output_type": "stream",
     "text": [
      "MINORISTA\n",
      "Numero de pedidos hechos: 27\n",
      "Inventario diario a mantener (promedio días): 262.07457627118646\n",
      "Faltantes diarios (promedio): 9.989830508474576\n",
      "Ciclos con faltantes: 27\n",
      "Total de artículos demandados: 16908\n",
      "Demanda diaria (promedio): 57.31525423728814\n",
      "Total de artículos pedidos: 16065\n",
      "En promedio hubo un ciclo con faltantes cada 1.0 ciclos\n",
      " \n",
      "MAYORISTA\n",
      "Numero de pedidos hechos: 26\n",
      "Inventario diario a mantener (promedio):456.93220338983053\n",
      "Faltantes diarios (promedio): 7.305084745762712\n",
      "Ciclos con faltantes: 5\n",
      "Total de artículos demandados: 16065\n",
      "Total de artículos pedidos: 13315\n",
      "En promedio hubo un ciclo con faltantes cada 5.2 ciclos\n"
     ]
    }
   ],
   "source": [
    "print(\"MINORISTA\")\n",
    "print(\"Numero de pedidos hechos: \" + str(MIN_numPedidos))\n",
    "print(\"Inventario diario a mantener (promedio días): \" + str(MIN_sumaInvMantener2/(contadorDiasInventario*1.0)))\n",
    "print(\"Faltantes diarios (promedio): \" + str(MIN_sumaInvFaltantes/(contadorDiasInventario*1.0)))\n",
    "print(\"Ciclos con faltantes: \" + str(MIN_ciclosConFaltantes))\n",
    "print(\"Total de artículos demandados: \" + str(MIN_sumaArticulosDemandados))\n",
    "print(\"Demanda diaria (promedio): \" + str(MIN_sumaArticulosDemandados/(contadorDiasInventario*1.0)))\n",
    "print(\"Total de artículos pedidos: \" + str(MIN_sumaArticulosPedidos))\n",
    "if not(MIN_ciclosConFaltantes == 0):\n",
    "    print(\"En promedio hubo un ciclo con faltantes cada \" + str(MIN_numPedidos/(MIN_ciclosConFaltantes*1.0))+\" ciclos\")\n",
    "print(\" \")\n",
    "print(\"MAYORISTA\")\n",
    "print(\"Numero de pedidos hechos: \" + str(MAY_numPedidos))\n",
    "print(\"Inventario diario a mantener (promedio):\" + str(MAY_sumaInvMantener2/(contadorDiasInventario*1.0)))\n",
    "print(\"Faltantes diarios (promedio): \" + str(MAY_sumaInvFaltantes/(contadorDiasInventario*1.0)))\n",
    "print(\"Ciclos con faltantes: \" + str(MAY_ciclosConFaltantes))\n",
    "print(\"Total de artículos demandados: \" + str(MAY_sumaArticulosDemandados))\n",
    "print(\"Total de artículos pedidos: \" + str(MAY_sumaArticulosPedidos))\n",
    "if not(MAY_ciclosConFaltantes == 0):\n",
    "    print(\"En promedio hubo un ciclo con faltantes cada \" + str(MAY_numPedidos/(MAY_ciclosConFaltantes*1.0))+\" ciclos\")"
   ]
  },
  {
   "cell_type": "code",
   "execution_count": 13,
   "metadata": {},
   "outputs": [
    {
     "name": "stdout",
     "output_type": "stream",
     "text": [
      "59.6 57.31525423728814\n"
     ]
    }
   ],
   "source": [
    "# Demanda diaria promedio Teorica vs simulación\n",
    "print((600/((60+15)/2))*a1,str(MIN_sumaArticulosDemandados/(contadorDiasInventario*1.0)))"
   ]
  },
  {
   "cell_type": "code",
   "execution_count": 14,
   "metadata": {},
   "outputs": [
    {
     "name": "stdout",
     "output_type": "stream",
     "text": [
      "INVENTARIO TOTAL A MANTENER\n",
      " \n",
      "CONTANDO DOMINGOS Y FESTIVOS:\n",
      "Minorista: 95878\n",
      "Mayorista: 162175\n",
      "CONTANDO SOLAMENTE DÍAS LABORALES:\n",
      "Minorista: 77312\n",
      "Mayorista: 134795\n"
     ]
    }
   ],
   "source": [
    "print(\"INVENTARIO TOTAL A MANTENER\")\n",
    "print(\" \")\n",
    "print(\"CONTANDO DOMINGOS Y FESTIVOS:\")\n",
    "print(\"Minorista: \" + str(MIN_sumaInvMantener1))\n",
    "print(\"Mayorista: \" + str(MAY_sumaInvMantener1))\n",
    "print(\"CONTANDO SOLAMENTE DÍAS LABORALES:\")\n",
    "print(\"Minorista: \" + str(MIN_sumaInvMantener2))\n",
    "print(\"Mayorista: \" + str(MAY_sumaInvMantener2))"
   ]
  },
  {
   "cell_type": "code",
   "execution_count": 15,
   "metadata": {},
   "outputs": [],
   "source": [
    "k1=25000  #costo pedido de minorista a mayorista\n",
    "c1=(2770*0.1823)+2770 #costo unidad minorista\n",
    "h1=c1*0.0025 #costo mantener unidad inventario\n",
    "c_Faltantes1=c1*(0.0125) #costo faltantes minorista\n",
    "\n",
    "costoPedidos1=k1*MIN_numPedidos #costo total de los pedidos hechos al mayorista\n",
    "costoMantener1=h1*MIN_sumaInvMantener2  #costo total del inventario\n",
    "costoMantener1_2=h1*MIN_sumaInvMantener1 # costo total del inventario contando domingos y festivos\n",
    "costoArticulos1=c1*MIN_sumaArticulosDemandados #costo total de la compra de los articulos\n",
    "costoFaltantes1=c_Faltantes1*MIN_sumaInvFaltantes #costo total de las unidades faltantes\n",
    "costoTotal1=costoPedidos1+costoMantener1+costoArticulos1+costoFaltantes1 #costo total del año\n",
    "costoTotal1_2=costoPedidos1+costoMantener1_2+costoArticulos1+costoFaltantes1 # costo total del año contando domingos y festivos"
   ]
  },
  {
   "cell_type": "code",
   "execution_count": 16,
   "metadata": {},
   "outputs": [
    {
     "name": "stdout",
     "output_type": "stream",
     "text": [
      "8.1874275\n"
     ]
    }
   ],
   "source": [
    "print (h1)"
   ]
  },
  {
   "cell_type": "code",
   "execution_count": 17,
   "metadata": {},
   "outputs": [
    {
     "data": {
      "text/plain": [
       "16908"
      ]
     },
     "execution_count": 17,
     "metadata": {},
     "output_type": "execute_result"
    }
   ],
   "source": [
    "MIN_sumaArticulosDemandados"
   ]
  },
  {
   "cell_type": "code",
   "execution_count": 18,
   "metadata": {},
   "outputs": [
    {
     "name": "stdout",
     "output_type": "stream",
     "text": [
      "594.7891433296227\n"
     ]
    }
   ],
   "source": [
    "EOQ=np.sqrt(2*ddp*k1/(h1*1.0)) #EOQ\n",
    "print(EOQ)"
   ]
  },
  {
   "cell_type": "code",
   "execution_count": 19,
   "metadata": {},
   "outputs": [],
   "source": [
    "k2=50000 #costo pedido de mayorista a fabrica\n",
    "c2=2770 #costo unidad mayorista\n",
    "h2=c2*0.0025 #costo mantener unidad inventario\n",
    "c_Faltantes2=c2*(0.0125+0.0177) #costo faltantes mayorista\n",
    "\n",
    "costoPedidos2=k2*MAY_numPedidos  #costo total de los pedidos hechos a la fabrica\n",
    "costoMantener2=h2*MAY_sumaInvMantener2 #costo total del inventario\n",
    "costoMantener2_2=h2*MAY_sumaInvMantener1# costo total del inventario contando domingos y festivos\n",
    "costoArticulos2=c2*MAY_sumaArticulosDemandados #costo total de la compra de los articulos\n",
    "costoFaltantes2=c_Faltantes2*MAY_sumaInvFaltantes #costo total de las unidades faltantes\n",
    "costoTotal2=costoPedidos2+costoMantener2+costoArticulos2+costoFaltantes2 #costo total del año\n",
    "costoTotal2_2=costoPedidos2+costoMantener2_2+costoArticulos2+costoFaltantes2 # #costo total del año contando domingos y festivos"
   ]
  },
  {
   "cell_type": "code",
   "execution_count": 20,
   "metadata": {},
   "outputs": [
    {
     "data": {
      "text/plain": [
       "16065"
      ]
     },
     "execution_count": 20,
     "metadata": {},
     "output_type": "execute_result"
    }
   ],
   "source": [
    "MAY_sumaArticulosDemandados"
   ]
  },
  {
   "cell_type": "code",
   "execution_count": 21,
   "metadata": {},
   "outputs": [
    {
     "name": "stdout",
     "output_type": "stream",
     "text": [
      "MINORISTA\n",
      "Costo de Pedidos: 675000\n",
      "Costo de Artículos: 55373209.668\n",
      "Costo de Faltantes: 120641.74421250002\n",
      "Costo de Mantener: 632986.39488\n",
      "Costo de Mantener (contando domingos y festivos): 784994.173845\n",
      "COSTO TOTAL: 56801837.807092495\n",
      "COSTO TOTAL (contando domingos y festivos): 56953845.5860575\n",
      " \n",
      "MAYORISTA\n",
      "Costo de Pedidos: 1300000\n",
      "Costo de Artículos: 44500050\n",
      "Costo de Faltantes: 180274.37\n",
      "Costo de Mantener: 933455.375\n",
      "Costo de Mantener (contando domingos y festivos): 1123061.875\n",
      "COSTO TOTAL: 46913779.745\n",
      "COSTO TOTAL (contando domingos y festivos): 47103386.245\n"
     ]
    }
   ],
   "source": [
    "print(\"MINORISTA\")\n",
    "print(\"Costo de Pedidos: \" + str(costoPedidos1))\n",
    "print(\"Costo de Artículos: \" + str(costoArticulos1))\n",
    "print(\"Costo de Faltantes: \" + str(costoFaltantes1))\n",
    "print(\"Costo de Mantener: \" + str(costoMantener1))\n",
    "print(\"Costo de Mantener (contando domingos y festivos): \" + str(costoMantener1_2))\n",
    "print(\"COSTO TOTAL: \" + str(costoTotal1))\n",
    "print(\"COSTO TOTAL (contando domingos y festivos): \" + str(costoTotal1_2))\n",
    "print(\" \")\n",
    "print(\"MAYORISTA\")\n",
    "print(\"Costo de Pedidos: \" + str(costoPedidos2))\n",
    "print(\"Costo de Artículos: \" + str(costoArticulos2))\n",
    "print(\"Costo de Faltantes: \" + str(costoFaltantes2))\n",
    "print(\"Costo de Mantener: \" + str(costoMantener2))\n",
    "print(\"Costo de Mantener (contando domingos y festivos): \" + str(costoMantener2_2))\n",
    "print(\"COSTO TOTAL: \" + str(costoTotal2))\n",
    "print(\"COSTO TOTAL (contando domingos y festivos): \" + str(costoTotal2_2))"
   ]
  },
  {
   "cell_type": "code",
   "execution_count": 22,
   "metadata": {},
   "outputs": [
    {
     "data": {
      "text/plain": [
       "295"
      ]
     },
     "execution_count": 22,
     "metadata": {},
     "output_type": "execute_result"
    }
   ],
   "source": [
    "contadorDiasInventario"
   ]
  },
  {
   "cell_type": "code",
   "execution_count": 23,
   "metadata": {},
   "outputs": [],
   "source": [
    "t=np.linspace(1,contadorDiasInventario,contadorDiasInventario)\n",
    "t1=np.linspace(1,contadorDias,contadorDias)"
   ]
  },
  {
   "cell_type": "code",
   "execution_count": 24,
   "metadata": {},
   "outputs": [],
   "source": [
    "t2=[]\n",
    "t2.append(0)\n",
    "for i in range (len(t)):\n",
    "    t2.append(t[i])\n",
    "    t2.append(t[i])\n",
    "t3=[]\n",
    "t3.append(0)\n",
    "for i in range (len(t1)):\n",
    "    t3.append(t1[i])\n",
    "    t3.append(t1[i])"
   ]
  },
  {
   "cell_type": "code",
   "execution_count": 25,
   "metadata": {},
   "outputs": [
    {
     "data": {
      "text/plain": [
       "295"
      ]
     },
     "execution_count": 25,
     "metadata": {},
     "output_type": "execute_result"
    }
   ],
   "source": [
    "contadorDiasInventario"
   ]
  },
  {
   "cell_type": "code",
   "execution_count": 26,
   "metadata": {},
   "outputs": [],
   "source": [
    "g1=[]\n",
    "g1.append(MIN_Q)\n",
    "for i in range (len(MIN_invI2)):\n",
    "    g1.append(MIN_invI2[i])\n",
    "    g1.append(MIN_invF2[i])\n",
    "\n",
    "g2=[]\n",
    "g2.append(MAY_cantidadReferencia)\n",
    "for i in range (len(MAY_invI2)):\n",
    "    g2.append(MAY_invI2[i])\n",
    "    g2.append(MAY_invF2[i])\n",
    "\n",
    "g3=[]\n",
    "g3.append(MIN_Q)\n",
    "for i in range (len(MIN_invI1)):\n",
    "    g3.append(MIN_invI1[i])\n",
    "    g3.append(MIN_invF1[i])\n",
    "\n",
    "g4=[]\n",
    "g4.append(MAY_cantidadReferencia)\n",
    "for i in range (len(MAY_invI1)):\n",
    "    g4.append(MAY_invI1[i])\n",
    "    g4.append(MAY_invF1[i])"
   ]
  },
  {
   "cell_type": "code",
   "execution_count": 27,
   "metadata": {},
   "outputs": [
    {
     "data": {
      "image/png": "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\n",
      "text/plain": [
       "<Figure size 432x288 with 1 Axes>"
      ]
     },
     "metadata": {},
     "output_type": "display_data"
    }
   ],
   "source": [
    "plt.plot(t2,g1) #Minorista - días laborales\n",
    "plt.show()"
   ]
  },
  {
   "cell_type": "code",
   "execution_count": 28,
   "metadata": {},
   "outputs": [
    {
     "data": {
      "image/png": "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\n",
      "text/plain": [
       "<Figure size 432x288 with 1 Axes>"
      ]
     },
     "metadata": {},
     "output_type": "display_data"
    }
   ],
   "source": [
    "plt.plot(t3,g3) #Minorista - con domingos y festivos\n",
    "plt.show()"
   ]
  },
  {
   "cell_type": "code",
   "execution_count": 29,
   "metadata": {},
   "outputs": [
    {
     "data": {
      "image/png": "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\n",
      "text/plain": [
       "<Figure size 432x288 with 1 Axes>"
      ]
     },
     "metadata": {},
     "output_type": "display_data"
    }
   ],
   "source": [
    "plt.plot(t2,g2) # Mayorista - días laborales\n",
    "plt.show()"
   ]
  },
  {
   "cell_type": "code",
   "execution_count": 30,
   "metadata": {},
   "outputs": [
    {
     "data": {
      "image/png": "iVBORw0KGgoAAAANSUhEUgAAAYAAAAD8CAYAAAB+UHOxAAAABHNCSVQICAgIfAhkiAAAAAlwSFlzAAALEgAACxIB0t1+/AAAADl0RVh0U29mdHdhcmUAbWF0cGxvdGxpYiB2ZXJzaW9uIDIuMi4yLCBodHRwOi8vbWF0cGxvdGxpYi5vcmcvhp/UCwAAFGpJREFUeJzt3X2MXXd95/H3d20SoNQ4DwYNY3udbK2FAbUmnc1DWbEII0iy7U5WSkTIarFoJLPb0KWlq8YpUkN3hYB9ILtIbMBtUkxLINmUym43LFhJKKpETO3WhMQGMps0ztizsVEe3G1aaOh3/7i/ca7H987cp7l3PL/3SxrNOb/zPed+72/m+jPn3Ht9IzORJNXnH4y6AUnSaBgAklQpA0CSKmUASFKlDABJqpQBIEmVMgAkqVIGgCRVygCQpEqtHnUDC7nwwgtz06ZNo25Dks4qBw4c+EFmrlusblkHwKZNm9i/f/+o25Cks0pEPNlJnZeAJKlSBoAkVcoAkKRKLRoAEXFnRByPiEeaxv5zRHw3Ih6OiD+MiLVN226JiOmI+F5EvKtp/MoyNh0ROwZ/VyRJ3ejkDOBzwJXzxvYCb8rMnwa+D9wCEBETwPXAG8s+/yMiVkXEKuDTwFXABPCeUitJGpFFAyAzvwE8M2/sa5n5Yll9CFhflqeAL2XmDzPzCWAauLR8TWfm45n5I+BLpVaSNCKDeA7gF4GvlOVx4KmmbTNlrN24JGlE+nofQER8GHgR+MLcUIuypHXQtPwsyojYDmwH2LhxYz/tSVLf7tp3hN0HjwIwtWWcGy5bOf8u9RwAEbEN+Hlga770wcIzwIamsvXAsbLcbvw0mbkT2AkwOTnpBxZLGqndB49yaPbkqfXqAyAirgRuBv5ZZr7QtGkPcFdEfBJ4HbAZ+BaNM4PNEXERcJTGE8U39NO4JA3LxNiaUbewJBYNgIj4IvA24MKImAFupfGqn3OBvREB8FBm/pvMfDQi7gEO0bg0dFNm/rgc5wPAV4FVwJ2Z+egS3B9JUocWDYDMfE+L4TsWqP8o8NEW4/cB93XVnSRpyfhOYEmqlAEgSZUyACSpUgaAJFXKAJCkShkAklQpA0CSKmUASFKlDABJqpQBIEmVMgAkqVIGgCRVygCQpEoZAJJUKQNAkiplAEhSpQwASaqUASBJlTIAJKlSBoAkVcoAkKRKGQCSVCkDQJIqZQBIUqUWDYCIuDMijkfEI01j50fE3oh4rHw/r4xHRHwqIqYj4uGIuKRpn22l/rGI2LY0d0eS1KlOzgA+B1w5b2wHcH9mbgbuL+sAVwGby9d24HZoBAZwK3AZcClw61xoSJJGY9EAyMxvAM/MG54CdpXlXcA1TeOfz4aHgLURMQa8C9ibmc9k5rPAXs4MFUnSEPX6HMBrM3MWoHx/TRkfB55qqpspY+3GJUkjMugngaPFWC4wfuYBIrZHxP6I2H/ixImBNidJekmvAfB0ubRD+X68jM8AG5rq1gPHFhg/Q2buzMzJzJxct25dj+1JkhbTawDsAeZeybMN2N00/t7yaqDLgefLJaKvAu+MiPPKk7/vLGOSpBFZvVhBRHwReBtwYUTM0Hg1z8eBeyLiRuAIcF0pvw+4GpgGXgDeB5CZz0TEfwT+rNT9h8yc/8SyJGmIFg2AzHxPm01bW9QmcFOb49wJ3NlVd5KkJeM7gSWpUgaAJFXKAJCkShkAklQpA0CSKmUASFKlDABJqpQBIEmVMgAkqVIGgCRVygCQpEoZAJJUKQNAkiplAEhSpQwASaqUASBJlTIAJKlSBoAkVcoAkKRKGQCSVCkDQJIqZQBIUqUMAEmqlAEgSZXqKwAi4lcj4tGIeCQivhgRL4+IiyJiX0Q8FhF3R8Q5pfbcsj5dtm8axB2QJPWm5wCIiHHg3wGTmfkmYBVwPfAJ4LbM3Aw8C9xYdrkReDYzfwq4rdRJkkak30tAq4FXRMRq4JXALPB24N6yfRdwTVmeKuuU7VsjIvq8fUlSj1b3umNmHo2I/wIcAf4G+BpwAHguM18sZTPAeFkeB54q+74YEc8DFwA/6LWHhfzWHz3KoWMnu9pnass4N1y2saPau/YdYffBox3v0039XG2nPfVT36zVvu1qh1E/f5/FatvdxkrX7bx0M+fd1g+6l17qW92HpdBN75323bzPMPRzCeg8Gn/VXwS8DvgJ4KoWpTm3ywLbmo+7PSL2R8T+EydO9Npe1w7Nnuz4BwSw++BR9j3xTMf7dFO/++BRDs2e7LinXuubtdu3Ve0w6lvts1DtQrex0nU7L93Mebf1g+yll/p292EpdNN7J33P32cYej4DAN4BPJGZJwAi4svAzwFrI2J1OQtYDxwr9TPABmCmXDJ6NfDM/INm5k5gJ8Dk5OQZAdGpW3/hjV3Vv/uz3+z1ppbExNiaJa+/+/1XnFpf6P7Prx1Gfbt92tUudhsrXbfz0s2cd1s/qF56qW+3z1LppvfF+m61z1Lr5zmAI8DlEfHKci1/K3AIeBC4ttRsA3aX5T1lnbL9gczs+R94SVJ/eg6AzNxH48ncPwe+U461E7gZ+FBETNO4xn9H2eUO4IIy/iFgRx99S5L61M8lIDLzVuDWecOPA5e2qP1b4Lp+bk+SNDi+E1iSKmUASFKlDABJqpQBIEmVMgAkqVIGgCRVygCQpEoZAJJUKQNAkiplAEhSpQwASaqUASBJlTIAJKlSBoAkVcoAkKRKGQCSVCkDQJIqZQBIUqUMAEmqlAEgSZUyACSpUgaAJFXKAJCkShkAklQpA0CSKtVXAETE2oi4NyK+GxGHI+KKiDg/IvZGxGPl+3mlNiLiUxExHREPR8Qlg7kLkqRe9HsG8N+B/52Zrwd+BjgM7ADuz8zNwP1lHeAqYHP52g7c3udtS5L60HMARMQa4K3AHQCZ+aPMfA6YAnaVsl3ANWV5Cvh8NjwErI2IsZ47lyT1ZXUf+14MnAB+NyJ+BjgAfBB4bWbOAmTmbES8ptSPA0817T9TxmabDxoR22mcIbBx48Y+2pO6c9e+I+w+ePTU+tSWcW64rLvfwfnHGPVxNFiHZk/y7s9+89TyxNiaEXfUn34uAa0GLgFuz8w3A3/NS5d7WokWY3nGQObOzJzMzMl169b10Z7Und0Hj3Jo9iTQeHDP/we422Msh+NocKa2jJ/2D/7E2BqmtoyPsKP+9XMGMAPMZOa+sn4vjQB4OiLGyl//Y8DxpvoNTfuvB471cfvSwE2MreHu919x6q+8fo4BLIvjaDBuuGzjijsD6/kMIDP/L/BURPzjMrQVOATsAbaVsW3A7rK8B3hveTXQ5cDzc5eKJEnD188ZAMAvA1+IiHOAx4H30QiVeyLiRuAIcF2pvQ+4GpgGXii1kqQR6SsAMvMgMNli09YWtQnc1M/tSZIGx3cCS1KlDABJqpQBIEmVMgAkqVIGgCRVygCQpEoZAJJUKQNAkiplAEhSpQwASaqUASBJlTIAJKlSBoAkVcoAkKRKGQCSVCkDQJIqZQBIUqUMAEmqlAEgSZUyACSpUgaAJFXKAJCkShkAklQpA0CSKtV3AETEqoj4i4j447J+UUTsi4jHIuLuiDinjJ9b1qfL9k393rYkqXeDOAP4IHC4af0TwG2ZuRl4FrixjN8IPJuZPwXcVuokSSPSVwBExHrgnwO/U9YDeDtwbynZBVxTlqfKOmX71lIvSRqBfs8A/hvw68Dfl/ULgOcy88WyPgOMl+Vx4CmAsv35Un+aiNgeEfsjYv+JEyf6bE+S1E7PARARPw8cz8wDzcMtSrODbS8NZO7MzMnMnFy3bl2v7UmSFrG6j33fAvyLiLgaeDmwhsYZwdqIWF3+yl8PHCv1M8AGYCYiVgOvBp7p4/YlSX3o+QwgM2/JzPWZuQm4HnggM/8V8CBwbSnbBuwuy3vKOmX7A5l5xhmAJGk4luJ9ADcDH4qIaRrX+O8o43cAF5TxDwE7luC2JUkd6ucS0CmZ+XXg62X5ceDSFjV/C1w3iNuTJPXPdwJLUqUMAEmqlAEgSZUyACSpUgaAJFXKAJCkShkAklQpA0CSKmUASFKlDABJqpQBIEmVMgAkqVIGgCRVygCQpEoZAJJUKQNAkiplAEhSpQwASaqUASBJlTIAJKlSBoAkVcoAkKRKGQCSVCkDQJIq1XMARMSGiHgwIg5HxKMR8cEyfn5E7I2Ix8r388p4RMSnImI6Ih6OiEsGdSckSd3r5wzgReDXMvMNwOXATRExAewA7s/MzcD9ZR3gKmBz+doO3N7HbUuS+rS61x0zcxaYLct/FRGHgXFgCnhbKdsFfB24uYx/PjMTeCgi1kbEWDnOsnBo9iTv/uw3O67tZp9u6g/NnmRibM1Q6uePz9+3Xe0w6ufvs1htu9tYzNSWcW64bGPLbXftO8Lug0c7Pk473RwHOruv3ehmHufP4VL+jJaivtV96NRCvwu9mOujm5/n3D4Tr1vDrb/wxoH10krPAdAsIjYBbwb2Aa+d+0c9M2cj4jWlbBx4qmm3mTK2LAJgoQdvKxNja3jhRz/mleesGnj9xNiarvoZRH27/dsde6nrW+2z2P3s9mcILwVzuwf97oNHO/5HaiGdHmdOtz/ThXQzj63Gl/JnNOj6Vvt0arHfhW4199Hpz3NQP/NOReMP8j4OEPEq4E+Aj2bmlyPiucxc27T92cw8LyL+F/CxzPzTMn4/8OuZeWDe8bbTuETExo0bf/bJJ5/sqz9pIXN/Jd79/itaLs+5+/1XdHSc+fXdHqeTPrvZps61m8ezcX4j4kBmTi5W19ergCLiZcAfAF/IzC+X4acjYqxsHwOOl/EZYEPT7uuBY/OPmZk7M3MyMyfXrVvXT3uSpAX08yqgAO4ADmfmJ5s27QG2leVtwO6m8feWVwNdDjy/nK7/S1Jt+nkO4C3Avwa+ExEHy9hvAB8H7omIG4EjwHVl233A1cA08ALwvj5uW5LUp35eBfSnQLTZvLVFfQI39Xp7kqTB8p3AklQpA0CSKmUASFKlDABJqpQBIEmVMgAkqVIGgCRVygCQpEoZAJJUKQNAkiplAEhSpQwASaqUASBJlTIAJKlSBoAkVcoAkKRKGQCSVCkDQJIqZQBIUqUMAEmqlAEgSZUyACSpUgaAJFXKAJCkSg09ACLiyoj4XkRMR8SOYd++JKlhqAEQEauATwNXARPAeyJiYpg9SJIahn0GcCkwnZmPZ+aPgC8BU0PuQZIErB7y7Y0DTzWtzwCXDbkH6TSHZk/y7s9+k0OzJ5kYW3PaOHDa2GLHaVXf7XEW67PVeL/HVkOrOV7J8zvsAIgWY3laQcR2YDvAxo0bh9GTKja1ZfzU8sTYmlPrzePNy50cp5Plfvqcr7lv9a7dHK7k+Y3MXLxqUDcWcQXwkcx8V1m/BSAzP9aqfnJyMvfv3z+0/iRpJYiIA5k5uVjdsJ8D+DNgc0RcFBHnANcDe4bcgySJIV8CyswXI+IDwFeBVcCdmfnoMHuQJDUM+zkAMvM+4L5h364k6XS+E1iSKmUASFKlDABJqpQBIEmVMgAkqVJDfSNYtyLiBPBkH4e4EPjBgNpZKmdDj2Cfg3Q29Aj2OWjD7PMfZua6xYqWdQD0KyL2d/JuuFE6G3oE+xyks6FHsM9BW459eglIkiplAEhSpVZ6AOwcdQMdOBt6BPscpLOhR7DPQVt2fa7o5wAkSe2t9DMASVIbKzIAlvMHz0fEX0bEdyLiYETsL2PnR8TeiHisfD9vBH3dGRHHI+KRprGWfUXDp8r8PhwRl4ywx49ExNEynwcj4uqmbbeUHr8XEe8aRo/ldjdExIMRcTgiHo2ID5bxZTOfC/S4rOYzIl4eEd+KiG+XPn+rjF8UEfvKXN5d/nt5IuLcsj5dtm8acZ+fi4gnmuZzSxkfyWPoDJm5or5o/DfT/we4GDgH+DYwMeq+mvr7S+DCeWP/CdhRlncAnxhBX28FLgEeWawv4GrgKzQ+4e1yYN8Ie/wI8O9b1E6Un/25wEXld2LVkPocAy4pyz8JfL/0s2zmc4Eel9V8ljl5VVl+GbCvzNE9wPVl/DPAvy3LvwR8pixfD9w9pJ95uz4/B1zbon4kj6H5XyvxDOBs/OD5KWBXWd4FXDPsBjLzG8Az84bb9TUFfD4bHgLWRsTYiHpsZwr4Umb+MDOfAKZp/G4sucyczcw/L8t/BRym8XnYy2Y+F+ixnZHMZ5mT/1dWX1a+Eng7cG8Znz+Xc3N8L7A1Ilp9FO2w+mxnJI+h+VZiALT64Pnl9IGeCXwtIg5E4/OPAV6bmbPQeGACrxlZd6dr19dym+MPlNPoO5suny2LHssliDfT+ItwWc7nvB5hmc1nRKyKiIPAcWAvjbOP5zLzxRa9nOqzbH8euGAUfWbm3Hx+tMznbRFx7vw+i5H8fq7EAFj0g+dH7C2ZeQlwFXBTRLx11A31YDnN8e3APwK2ALPAfy3jI+8xIl4F/AHwK5l5cqHSFmND6bVFj8tuPjPzx5m5BVhP46zjDQv0smz6jIg3AbcArwf+CXA+cPOo+2y2EgNgBtjQtL4eODaiXs6QmcfK9+PAH9L4hX567vSvfD8+ug5P066vZTPHmfl0eeD9PfDbvHRZYqQ9RsTLaPzD+oXM/HIZXlbz2arH5TqfpbfngK/TuGa+NiLmPtGwuZdTfZbtr6bzy4aD7vPKcqktM/OHwO+yjOYTVmYALNsPno+In4iIn5xbBt4JPEKjv22lbBuwezQdnqFdX3uA95ZXMlwOPD93aWPY5l03/Zc05hMaPV5fXhVyEbAZ+NaQegrgDuBwZn6yadOymc92PS63+YyIdRGxtiy/AngHjecrHgSuLWXz53Jujq8FHsjyrOsI+vxuU+AHjecpmudz9I+hUTzzvNRfNJ5h/z6Na4UfHnU/TX1dTOOVFN8GHp3rjcY1yvuBx8r380fQ2xdpnPL/HY2/Tm5s1xeN09dPl/n9DjA5wh5/r/TwMI0H1VhT/YdLj98DrhriXP5TGqfzDwMHy9fVy2k+F+hxWc0n8NPAX5R+HgF+s4xfTCOApoH/CZxbxl9e1qfL9otH3OcDZT4fAX6fl14pNJLH0Pwv3wksSZVaiZeAJEkdMAAkqVIGgCRVygCQpEoZAJJUKQNAkiplAEhSpQwASarU/wePYLO5nN/T6AAAAABJRU5ErkJggg==\n",
      "text/plain": [
       "<Figure size 432x288 with 1 Axes>"
      ]
     },
     "metadata": {},
     "output_type": "display_data"
    }
   ],
   "source": [
    "plt.plot(t3,g4) # Mayorista - con domingos y festivos\n",
    "plt.show()"
   ]
  },
  {
   "cell_type": "code",
   "execution_count": 31,
   "metadata": {},
   "outputs": [
    {
     "data": {
      "text/html": [
       "<div>\n",
       "<style scoped>\n",
       "    .dataframe tbody tr th:only-of-type {\n",
       "        vertical-align: middle;\n",
       "    }\n",
       "\n",
       "    .dataframe tbody tr th {\n",
       "        vertical-align: top;\n",
       "    }\n",
       "\n",
       "    .dataframe thead th {\n",
       "        text-align: right;\n",
       "    }\n",
       "</style>\n",
       "<table border=\"1\" class=\"dataframe\">\n",
       "  <thead>\n",
       "    <tr style=\"text-align: right;\">\n",
       "      <th></th>\n",
       "      <th>DIA</th>\n",
       "      <th>Inicial Min</th>\n",
       "      <th>Inicial May</th>\n",
       "      <th>Final Min</th>\n",
       "      <th>Final May</th>\n",
       "    </tr>\n",
       "  </thead>\n",
       "  <tbody>\n",
       "    <tr>\n",
       "      <th>81</th>\n",
       "      <td>3</td>\n",
       "      <td>236</td>\n",
       "      <td>800</td>\n",
       "      <td>197</td>\n",
       "      <td>800</td>\n",
       "    </tr>\n",
       "    <tr>\n",
       "      <th>82</th>\n",
       "      <td>4</td>\n",
       "      <td>197</td>\n",
       "      <td>800</td>\n",
       "      <td>146</td>\n",
       "      <td>800</td>\n",
       "    </tr>\n",
       "    <tr>\n",
       "      <th>83</th>\n",
       "      <td>5</td>\n",
       "      <td>146</td>\n",
       "      <td>800</td>\n",
       "      <td>79</td>\n",
       "      <td>800</td>\n",
       "    </tr>\n",
       "    <tr>\n",
       "      <th>84</th>\n",
       "      <td>6</td>\n",
       "      <td>79</td>\n",
       "      <td>800</td>\n",
       "      <td>32</td>\n",
       "      <td>800</td>\n",
       "    </tr>\n",
       "    <tr>\n",
       "      <th>85</th>\n",
       "      <td>1</td>\n",
       "      <td>32</td>\n",
       "      <td>800</td>\n",
       "      <td>0</td>\n",
       "      <td>205</td>\n",
       "    </tr>\n",
       "    <tr>\n",
       "      <th>86</th>\n",
       "      <td>2</td>\n",
       "      <td>0</td>\n",
       "      <td>205</td>\n",
       "      <td>595</td>\n",
       "      <td>205</td>\n",
       "    </tr>\n",
       "    <tr>\n",
       "      <th>87</th>\n",
       "      <td>3</td>\n",
       "      <td>595</td>\n",
       "      <td>205</td>\n",
       "      <td>540</td>\n",
       "      <td>205</td>\n",
       "    </tr>\n",
       "    <tr>\n",
       "      <th>88</th>\n",
       "      <td>4</td>\n",
       "      <td>540</td>\n",
       "      <td>205</td>\n",
       "      <td>491</td>\n",
       "      <td>205</td>\n",
       "    </tr>\n",
       "    <tr>\n",
       "      <th>89</th>\n",
       "      <td>5</td>\n",
       "      <td>491</td>\n",
       "      <td>205</td>\n",
       "      <td>415</td>\n",
       "      <td>205</td>\n",
       "    </tr>\n",
       "    <tr>\n",
       "      <th>90</th>\n",
       "      <td>6</td>\n",
       "      <td>415</td>\n",
       "      <td>205</td>\n",
       "      <td>369</td>\n",
       "      <td>205</td>\n",
       "    </tr>\n",
       "    <tr>\n",
       "      <th>91</th>\n",
       "      <td>1</td>\n",
       "      <td>369</td>\n",
       "      <td>205</td>\n",
       "      <td>316</td>\n",
       "      <td>800</td>\n",
       "    </tr>\n",
       "    <tr>\n",
       "      <th>92</th>\n",
       "      <td>2</td>\n",
       "      <td>316</td>\n",
       "      <td>800</td>\n",
       "      <td>246</td>\n",
       "      <td>800</td>\n",
       "    </tr>\n",
       "    <tr>\n",
       "      <th>93</th>\n",
       "      <td>3</td>\n",
       "      <td>246</td>\n",
       "      <td>800</td>\n",
       "      <td>173</td>\n",
       "      <td>800</td>\n",
       "    </tr>\n",
       "    <tr>\n",
       "      <th>94</th>\n",
       "      <td>4</td>\n",
       "      <td>173</td>\n",
       "      <td>800</td>\n",
       "      <td>121</td>\n",
       "      <td>800</td>\n",
       "    </tr>\n",
       "    <tr>\n",
       "      <th>95</th>\n",
       "      <td>5</td>\n",
       "      <td>121</td>\n",
       "      <td>800</td>\n",
       "      <td>70</td>\n",
       "      <td>800</td>\n",
       "    </tr>\n",
       "    <tr>\n",
       "      <th>96</th>\n",
       "      <td>6</td>\n",
       "      <td>70</td>\n",
       "      <td>800</td>\n",
       "      <td>0</td>\n",
       "      <td>800</td>\n",
       "    </tr>\n",
       "    <tr>\n",
       "      <th>97</th>\n",
       "      <td>1</td>\n",
       "      <td>0</td>\n",
       "      <td>800</td>\n",
       "      <td>0</td>\n",
       "      <td>205</td>\n",
       "    </tr>\n",
       "    <tr>\n",
       "      <th>98</th>\n",
       "      <td>3</td>\n",
       "      <td>0</td>\n",
       "      <td>205</td>\n",
       "      <td>595</td>\n",
       "      <td>205</td>\n",
       "    </tr>\n",
       "    <tr>\n",
       "      <th>99</th>\n",
       "      <td>4</td>\n",
       "      <td>595</td>\n",
       "      <td>205</td>\n",
       "      <td>527</td>\n",
       "      <td>205</td>\n",
       "    </tr>\n",
       "    <tr>\n",
       "      <th>100</th>\n",
       "      <td>5</td>\n",
       "      <td>527</td>\n",
       "      <td>205</td>\n",
       "      <td>469</td>\n",
       "      <td>205</td>\n",
       "    </tr>\n",
       "    <tr>\n",
       "      <th>101</th>\n",
       "      <td>6</td>\n",
       "      <td>469</td>\n",
       "      <td>205</td>\n",
       "      <td>407</td>\n",
       "      <td>205</td>\n",
       "    </tr>\n",
       "    <tr>\n",
       "      <th>102</th>\n",
       "      <td>1</td>\n",
       "      <td>407</td>\n",
       "      <td>205</td>\n",
       "      <td>344</td>\n",
       "      <td>800</td>\n",
       "    </tr>\n",
       "    <tr>\n",
       "      <th>103</th>\n",
       "      <td>2</td>\n",
       "      <td>344</td>\n",
       "      <td>800</td>\n",
       "      <td>293</td>\n",
       "      <td>800</td>\n",
       "    </tr>\n",
       "    <tr>\n",
       "      <th>104</th>\n",
       "      <td>3</td>\n",
       "      <td>293</td>\n",
       "      <td>800</td>\n",
       "      <td>230</td>\n",
       "      <td>800</td>\n",
       "    </tr>\n",
       "    <tr>\n",
       "      <th>105</th>\n",
       "      <td>4</td>\n",
       "      <td>230</td>\n",
       "      <td>800</td>\n",
       "      <td>168</td>\n",
       "      <td>800</td>\n",
       "    </tr>\n",
       "    <tr>\n",
       "      <th>106</th>\n",
       "      <td>5</td>\n",
       "      <td>168</td>\n",
       "      <td>800</td>\n",
       "      <td>115</td>\n",
       "      <td>800</td>\n",
       "    </tr>\n",
       "    <tr>\n",
       "      <th>107</th>\n",
       "      <td>6</td>\n",
       "      <td>115</td>\n",
       "      <td>800</td>\n",
       "      <td>63</td>\n",
       "      <td>800</td>\n",
       "    </tr>\n",
       "    <tr>\n",
       "      <th>108</th>\n",
       "      <td>2</td>\n",
       "      <td>63</td>\n",
       "      <td>800</td>\n",
       "      <td>17</td>\n",
       "      <td>800</td>\n",
       "    </tr>\n",
       "    <tr>\n",
       "      <th>109</th>\n",
       "      <td>3</td>\n",
       "      <td>17</td>\n",
       "      <td>800</td>\n",
       "      <td>0</td>\n",
       "      <td>205</td>\n",
       "    </tr>\n",
       "    <tr>\n",
       "      <th>110</th>\n",
       "      <td>4</td>\n",
       "      <td>0</td>\n",
       "      <td>205</td>\n",
       "      <td>595</td>\n",
       "      <td>205</td>\n",
       "    </tr>\n",
       "    <tr>\n",
       "      <th>111</th>\n",
       "      <td>5</td>\n",
       "      <td>595</td>\n",
       "      <td>205</td>\n",
       "      <td>535</td>\n",
       "      <td>205</td>\n",
       "    </tr>\n",
       "    <tr>\n",
       "      <th>112</th>\n",
       "      <td>6</td>\n",
       "      <td>535</td>\n",
       "      <td>205</td>\n",
       "      <td>478</td>\n",
       "      <td>205</td>\n",
       "    </tr>\n",
       "    <tr>\n",
       "      <th>113</th>\n",
       "      <td>1</td>\n",
       "      <td>478</td>\n",
       "      <td>205</td>\n",
       "      <td>431</td>\n",
       "      <td>800</td>\n",
       "    </tr>\n",
       "    <tr>\n",
       "      <th>114</th>\n",
       "      <td>2</td>\n",
       "      <td>431</td>\n",
       "      <td>800</td>\n",
       "      <td>390</td>\n",
       "      <td>800</td>\n",
       "    </tr>\n",
       "    <tr>\n",
       "      <th>115</th>\n",
       "      <td>3</td>\n",
       "      <td>390</td>\n",
       "      <td>800</td>\n",
       "      <td>340</td>\n",
       "      <td>800</td>\n",
       "    </tr>\n",
       "    <tr>\n",
       "      <th>116</th>\n",
       "      <td>4</td>\n",
       "      <td>340</td>\n",
       "      <td>800</td>\n",
       "      <td>280</td>\n",
       "      <td>800</td>\n",
       "    </tr>\n",
       "    <tr>\n",
       "      <th>117</th>\n",
       "      <td>5</td>\n",
       "      <td>280</td>\n",
       "      <td>800</td>\n",
       "      <td>193</td>\n",
       "      <td>800</td>\n",
       "    </tr>\n",
       "    <tr>\n",
       "      <th>118</th>\n",
       "      <td>6</td>\n",
       "      <td>193</td>\n",
       "      <td>800</td>\n",
       "      <td>135</td>\n",
       "      <td>800</td>\n",
       "    </tr>\n",
       "    <tr>\n",
       "      <th>119</th>\n",
       "      <td>1</td>\n",
       "      <td>135</td>\n",
       "      <td>800</td>\n",
       "      <td>73</td>\n",
       "      <td>800</td>\n",
       "    </tr>\n",
       "    <tr>\n",
       "      <th>120</th>\n",
       "      <td>2</td>\n",
       "      <td>73</td>\n",
       "      <td>800</td>\n",
       "      <td>21</td>\n",
       "      <td>800</td>\n",
       "    </tr>\n",
       "    <tr>\n",
       "      <th>121</th>\n",
       "      <td>3</td>\n",
       "      <td>21</td>\n",
       "      <td>800</td>\n",
       "      <td>0</td>\n",
       "      <td>205</td>\n",
       "    </tr>\n",
       "    <tr>\n",
       "      <th>122</th>\n",
       "      <td>4</td>\n",
       "      <td>0</td>\n",
       "      <td>205</td>\n",
       "      <td>595</td>\n",
       "      <td>205</td>\n",
       "    </tr>\n",
       "    <tr>\n",
       "      <th>123</th>\n",
       "      <td>5</td>\n",
       "      <td>595</td>\n",
       "      <td>205</td>\n",
       "      <td>529</td>\n",
       "      <td>205</td>\n",
       "    </tr>\n",
       "    <tr>\n",
       "      <th>124</th>\n",
       "      <td>6</td>\n",
       "      <td>529</td>\n",
       "      <td>205</td>\n",
       "      <td>461</td>\n",
       "      <td>205</td>\n",
       "    </tr>\n",
       "    <tr>\n",
       "      <th>125</th>\n",
       "      <td>2</td>\n",
       "      <td>461</td>\n",
       "      <td>205</td>\n",
       "      <td>399</td>\n",
       "      <td>205</td>\n",
       "    </tr>\n",
       "    <tr>\n",
       "      <th>126</th>\n",
       "      <td>3</td>\n",
       "      <td>399</td>\n",
       "      <td>205</td>\n",
       "      <td>342</td>\n",
       "      <td>205</td>\n",
       "    </tr>\n",
       "    <tr>\n",
       "      <th>127</th>\n",
       "      <td>4</td>\n",
       "      <td>342</td>\n",
       "      <td>205</td>\n",
       "      <td>292</td>\n",
       "      <td>205</td>\n",
       "    </tr>\n",
       "    <tr>\n",
       "      <th>128</th>\n",
       "      <td>5</td>\n",
       "      <td>292</td>\n",
       "      <td>205</td>\n",
       "      <td>239</td>\n",
       "      <td>205</td>\n",
       "    </tr>\n",
       "    <tr>\n",
       "      <th>129</th>\n",
       "      <td>6</td>\n",
       "      <td>239</td>\n",
       "      <td>205</td>\n",
       "      <td>191</td>\n",
       "      <td>205</td>\n",
       "    </tr>\n",
       "  </tbody>\n",
       "</table>\n",
       "</div>"
      ],
      "text/plain": [
       "     DIA  Inicial Min  Inicial May  Final Min  Final May\n",
       "81     3          236          800        197        800\n",
       "82     4          197          800        146        800\n",
       "83     5          146          800         79        800\n",
       "84     6           79          800         32        800\n",
       "85     1           32          800          0        205\n",
       "86     2            0          205        595        205\n",
       "87     3          595          205        540        205\n",
       "88     4          540          205        491        205\n",
       "89     5          491          205        415        205\n",
       "90     6          415          205        369        205\n",
       "91     1          369          205        316        800\n",
       "92     2          316          800        246        800\n",
       "93     3          246          800        173        800\n",
       "94     4          173          800        121        800\n",
       "95     5          121          800         70        800\n",
       "96     6           70          800          0        800\n",
       "97     1            0          800          0        205\n",
       "98     3            0          205        595        205\n",
       "99     4          595          205        527        205\n",
       "100    5          527          205        469        205\n",
       "101    6          469          205        407        205\n",
       "102    1          407          205        344        800\n",
       "103    2          344          800        293        800\n",
       "104    3          293          800        230        800\n",
       "105    4          230          800        168        800\n",
       "106    5          168          800        115        800\n",
       "107    6          115          800         63        800\n",
       "108    2           63          800         17        800\n",
       "109    3           17          800          0        205\n",
       "110    4            0          205        595        205\n",
       "111    5          595          205        535        205\n",
       "112    6          535          205        478        205\n",
       "113    1          478          205        431        800\n",
       "114    2          431          800        390        800\n",
       "115    3          390          800        340        800\n",
       "116    4          340          800        280        800\n",
       "117    5          280          800        193        800\n",
       "118    6          193          800        135        800\n",
       "119    1          135          800         73        800\n",
       "120    2           73          800         21        800\n",
       "121    3           21          800          0        205\n",
       "122    4            0          205        595        205\n",
       "123    5          595          205        529        205\n",
       "124    6          529          205        461        205\n",
       "125    2          461          205        399        205\n",
       "126    3          399          205        342        205\n",
       "127    4          342          205        292        205\n",
       "128    5          292          205        239        205\n",
       "129    6          239          205        191        205"
      ]
     },
     "execution_count": 31,
     "metadata": {},
     "output_type": "execute_result"
    }
   ],
   "source": [
    "tabla=pd.DataFrame({\"DIA\":diaDeLaSemana,\"Inicial Min\":MIN_invI2,\"Inicial May\":MAY_invI2,\"Final Min\":MIN_invF2,\"Final May\":MAY_invF2})\n",
    "tabla[81:130]"
   ]
  },
  {
   "cell_type": "code",
   "execution_count": 32,
   "metadata": {},
   "outputs": [
    {
     "data": {
      "text/plain": [
       "0.0"
      ]
     },
     "execution_count": 32,
     "metadata": {},
     "output_type": "execute_result"
    }
   ],
   "source": [
    "#Minorista\n",
    "Nivel_Servicio_1MIN=1-((MIN_ciclosConFaltantes)/(MIN_numPedidos))\n",
    "Nivel_Servicio_1MIN"
   ]
  },
  {
   "cell_type": "code",
   "execution_count": 33,
   "metadata": {},
   "outputs": [
    {
     "data": {
      "text/plain": [
       "0.9546218487394958"
      ]
     },
     "execution_count": 33,
     "metadata": {},
     "output_type": "execute_result"
    }
   ],
   "source": [
    "Nivel_Servicio_2MIN=1-(MIN_ciclosConFaltantes)/MIN_Q\n",
    "Nivel_Servicio_2MIN"
   ]
  },
  {
   "cell_type": "code",
   "execution_count": 34,
   "metadata": {},
   "outputs": [
    {
     "data": {
      "text/plain": [
       "0.8076923076923077"
      ]
     },
     "execution_count": 34,
     "metadata": {},
     "output_type": "execute_result"
    }
   ],
   "source": [
    "#Mayorista\n",
    "Nivel_Servicio_1MAY=1-((MAY_ciclosConFaltantes)/(MAY_numPedidos))\n",
    "Nivel_Servicio_1MAY"
   ]
  },
  {
   "cell_type": "code",
   "execution_count": 35,
   "metadata": {},
   "outputs": [
    {
     "data": {
      "text/plain": [
       "0.8963942307692307"
      ]
     },
     "execution_count": 35,
     "metadata": {},
     "output_type": "execute_result"
    }
   ],
   "source": [
    "Nivel_Servicio_2MAY=1-((MAY_sumaInvFaltantes/(MAY_numPedidos))/MAY_cantidadReferencia)\n",
    "Nivel_Servicio_2MAY"
   ]
  },
  {
   "cell_type": "code",
   "execution_count": null,
   "metadata": {},
   "outputs": [],
   "source": []
  },
  {
   "cell_type": "code",
   "execution_count": null,
   "metadata": {},
   "outputs": [],
   "source": []
  }
 ],
 "metadata": {
  "kernelspec": {
   "display_name": "Python 3",
   "language": "python",
   "name": "python3"
  },
  "language_info": {
   "codemirror_mode": {
    "name": "ipython",
    "version": 3
   },
   "file_extension": ".py",
   "mimetype": "text/x-python",
   "name": "python",
   "nbconvert_exporter": "python",
   "pygments_lexer": "ipython3",
   "version": "3.6.5"
  }
 },
 "nbformat": 4,
 "nbformat_minor": 2
}
